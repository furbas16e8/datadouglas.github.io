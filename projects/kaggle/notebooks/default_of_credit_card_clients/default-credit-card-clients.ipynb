{
 "cells": [
  {
   "cell_type": "markdown",
   "id": "57cd0fc1",
   "metadata": {},
   "source": [
    "# Pagamentos em Atraso de Clientes de Cartão de Crédito em Taiwan em 2005\n",
    "Este conjunto de dados contém informações sobre pagamentos em atraso, fatores demográficos, dados de crédito, histórico de pagamento e faturas de clientes de cartão de crédito em Taiwan, de abril de 2005 a setembro de 2005.\n",
    "\n",
    "**Objetivo:** análise exploratória usando R"
   ]
  },
  {
   "cell_type": "code",
   "execution_count": null,
   "id": "c99e6729",
   "metadata": {},
   "outputs": [],
   "source": [
    "# Carregando bibliotecas essenciais\n",
    "library(tidyverse)    # Para manipulação de dados\n",
    "library(ggplot2)      # Para visualizações\n",
    "library(corrplot)     # Para matriz de correlação\n",
    "library(VIM)          # Para análise de dados faltantes\n",
    "library(gridExtra)    # Para múltiplos gráficos"
   ]
  },
  {
   "cell_type": "code",
   "execution_count": 2,
   "id": "8a7fdedc",
   "metadata": {},
   "outputs": [],
   "source": [
    "# Carregando o dataset\n",
    "credit_card_df <- read.csv('UCI_Credit_Card.csv')"
   ]
  },
  {
   "cell_type": "markdown",
   "id": "b1b2e1b0",
   "metadata": {},
   "source": [
    "\n",
    "## Limpeza e pré-processamento\n",
    "\n",
    "A limpeza e o pré-processamento de dados, incluindo a harmonização de categorias não documentadas ou inconsistentes, são etapas que podem consumir uma porção significativa do tempo de um projeto, mas são essenciais para a validade e robustez dos modelos subsequentes (James et al., 2021).\n",
    "\n",
    "Para fazer uma inspeção inicial nos dados, utilizo o comando `glimpse()`:"
   ]
  },
  {
   "cell_type": "code",
   "execution_count": null,
   "id": "ad66f77a",
   "metadata": {},
   "outputs": [],
   "source": [
    "# Exibie a estrutura do dataframe para entender os tipos de dados de cada coluna\n",
    "glimpse(credit_card_df)"
   ]
  },
  {
   "cell_type": "markdown",
   "id": "9b9e0da0",
   "metadata": {},
   "source": [
    "Aqui é possível perceber que as variáveis `sex`, `education` e `marriage` foram interpretadas como variáveis numéricas (`int`). Mas de acordo com a descrição das variáveis fornecidas pelo dataset são variáveis categóricas.\n",
    "\n",
    "Então é necessário converter as colunas correspondentes a cada uma para o tipo `factor`."
   ]
  },
  {
   "cell_type": "code",
   "execution_count": 4,
   "id": "9747fb72",
   "metadata": {},
   "outputs": [],
   "source": [
    "# Seleciona as colunas categóricas e as converte para o tipo 'factor'\n",
    "factor_vars <- c(\"SEX\", \"EDUCATION\", \"MARRIAGE\", \"default.payment.next.month\")\n",
    "credit_card_df <- credit_card_df %>%\n",
    "  mutate(across(all_of(factor_vars), as.factor))"
   ]
  },
  {
   "cell_type": "markdown",
   "id": "a6384f4b",
   "metadata": {},
   "source": [
    "Para ter uma compreensão melhor da relação dos dados de todas as variáveis, decidi usar a função `summary()`, antes de prosseguir para os próximos passos."
   ]
  },
  {
   "cell_type": "code",
   "execution_count": 17,
   "id": "09384c40",
   "metadata": {},
   "outputs": [
    {
     "data": {
      "text/plain": [
       "      SEX          EDUCATION        MARRIAGE    \n",
       " Min.   :1.000   Min.   :0.000   Min.   :0.000  \n",
       " 1st Qu.:1.000   1st Qu.:1.000   1st Qu.:1.000  \n",
       " Median :2.000   Median :2.000   Median :2.000  \n",
       " Mean   :1.604   Mean   :1.853   Mean   :1.552  \n",
       " 3rd Qu.:2.000   3rd Qu.:2.000   3rd Qu.:2.000  \n",
       " Max.   :2.000   Max.   :6.000   Max.   :3.000  "
      ]
     },
     "execution_count": null,
     "metadata": {},
     "output_type": "execute_result"
    }
   ],
   "source": [
    "# Exibe um sumário de todas as colunas\n",
    "summary(credit_card_df[c(\"SEX\", \"EDUCATION\", \"MARRIAGE\")])"
   ]
  },
  {
   "cell_type": "markdown",
   "id": "0982615f",
   "metadata": {},
   "source": [
    "Aqui, pude perceber que as colunas **EDUCATION** e **MARRIAGE** apresentam um valor `(0)` que não está informado nas definições das variáveis do dataset disponibilizado pelo Kaggle.\n",
    "\n",
    "Segundo a plataforma:\n",
    "\n",
    "- **MARRIAGE:** Estado civil (1=casado, 2=solteiro, 3=outros) \n",
    "- **EDUCATION**: Escolaridade (1=pós-graduação, 2=universidade, 3=ensino médio, 4=outros, 5=desconhecido, 6=desconhecido)\n",
    "\n",
    "Ou seja, não temos uma definição para o valor `(0)` que apresenta 14 observações em **EDUCATION** E 54 EM **MARRIAGE**. Decidi agrupar esse valor na categoria `Unknown` em **EDUCATION** e em `Others` em **MARRIAGE** para facilitar a análise.\n",
    "\n",
    "Além disso, seguindo o exposto por (James et al., 2021), para melhorar a interpretabilidade das variáveis categóricas, decidi recodificá-las (incluindo a variável `default.payment.next.month`) para evitar a consulta contínua à descrição de cada uma."
   ]
  },
  {
   "cell_type": "code",
   "execution_count": 6,
   "id": "2870c917",
   "metadata": {},
   "outputs": [
    {
     "data": {
      "text/plain": [
       "     SEX                  EDUCATION        MARRIAGE     DEFAULT    \n",
       " Male  :11888   Unknown        :  345   Other  :  377   No :23364  \n",
       " Female:18112   Graduate School:10585   Married:13659   Yes: 6636  \n",
       "                University     :14030   Single :15964              \n",
       "                High School    : 4917                              \n",
       "                Others         :  123                              "
      ]
     },
     "execution_count": null,
     "metadata": {},
     "output_type": "execute_result"
    }
   ],
   "source": [
    "# Recodificando os níveis dos fatores para torná-los descritivos\n",
    "credit_card_df <- credit_card_df %>%\n",
    "  mutate(\n",
    "    SEX = recode_factor(SEX, `1` = \"Male\", `2` = \"Female\"),\n",
    "    EDUCATION = recode_factor(EDUCATION,\n",
    "                              `0` = \"Unknown\",\n",
    "                              `1` = \"Graduate School\",\n",
    "                              `2` = \"University\",\n",
    "                              `3` = \"High School\",\n",
    "                              `4` = \"Others\",\n",
    "                              `5` = \"Unknown\",\n",
    "                              `6` = \"Unknown\"),\n",
    "    MARRIAGE = recode_factor(MARRIAGE, `0` = \"Other\", `1` = \"Married\", `2` = \"Single\", `3` = \"Other\"),\n",
    "    # Renomeia a variável alvo para maior clareza\n",
    "    default.payment.next.month = recode_factor(default.payment.next.month, `0` = \"No\", `1` = \"Yes\")\n",
    "  ) %>%\n",
    "  # Renomeia a variável alvo\n",
    "  rename(DEFAULT = default.payment.next.month)\n",
    "\n",
    "# Verificando as colunas modificadas para ver os novos rótulos e suas contagens\n",
    "summary(credit_card_df[c(\"SEX\", \"EDUCATION\", \"MARRIAGE\", \"DEFAULT\")])"
   ]
  },
  {
   "cell_type": "markdown",
   "id": "9224e628",
   "metadata": {},
   "source": [
    "Apesar de estar utilizando a IDE Positron que já informa na visualização da tabela do dataframe se há alguma variável com dados ausentes, incluí o código abaixo com o mesmo objetivo. Apenas para seguir a EDA da forma convencional.\n",
    "\n",
    "O tratamento de dados faltantes é um problema central em ciência de dados. A decisão de como lidar com eles (e.g., remoção de casos, imputação) pode introduzir viés e afetar significativamente o desempenho e a validade do modelo final."
   ]
  },
  {
   "cell_type": "code",
   "execution_count": 7,
   "id": "290b01bb",
   "metadata": {},
   "outputs": [
    {
     "name": "stdout",
     "output_type": "stream",
     "text": [
      "named numeric(0)\n"
     ]
    }
   ],
   "source": [
    "# Conta a quantidade de valores ausentes (NA) em cada coluna\n",
    "missing_values <- colSums(is.na(credit_card_df))\n",
    "\n",
    "# Exibe apenas as colunas que contêm valores ausentes\n",
    "print(missing_values[missing_values > 0])"
   ]
  },
  {
   "cell_type": "markdown",
   "id": "4f9311c3",
   "metadata": {},
   "source": [
    "Dado o resultado do código acima, agora sabemos que o dataset não possui lacunas nos dados. Por outro lado, a variável `education` possui valores como **\"Others\"** e **\"Unknown\"**. Diferentemente de lacunas ou de células preenchidas com **\"NA\"**, tais valores não são buracos no dataset. \n",
    "\n",
    "- **Others** (Outros): informa que, quando um cliente respondeu ao questionário para iniciar um contrato com o banco de Taiwan, seu nível de escolaridade não estava listado nas opções possíveis.\n",
    "- **Unknown** (Desconhecido): por sua vez nos diz que a escolaridade do cliente é, lietralmente, desconhecida.\n",
    "\n",
    "Um exemplo mais comum acontece quando em um formulário, na categoria **\"Sexualidade\"** as opções selecionáveis podem ser: \"heteressexual\", \"homossexual\", \"bissexual\", \"outro (especificar)\" e \"Prefiro não responder\".\n",
    "\n",
    "Dessa forma **o dado existe**, e a importância dele está no **padrão e ausência**. Se os clientes escolhem **\"Outros\"** ou **\"Prefiro não responder\"** o fazem por algum motivo que pode se correlacionar com a inadimplência. Então, mesmo que sozinhos esses valores não possam ser possíveis de interpretação, dado todo o conjunto do dataset essas categorias em si são uma **informação valisosa**. Apagá-las sem algum critério apenas para simplificar os dados causaria viés e possivelmente colocaria toda a análise em xeque.\n",
    "\n",
    "---"
   ]
  },
  {
   "cell_type": "markdown",
   "id": "5cbca7f0",
   "metadata": {},
   "source": [
    "### Investigando possíveis correlações\n",
    "\n",
    "Agora é necessário investigar se as categorias **\"Others\"** e **\"Unknown\"** apresentam algum comportamento distinto em relação à taxa de inadimplência criando uma nova variável: `education_default_rate\"."
   ]
  },
  {
   "cell_type": "code",
   "execution_count": 8,
   "id": "237760ee",
   "metadata": {},
   "outputs": [
    {
     "name": "stdout",
     "output_type": "stream",
     "text": [
      "\u001b[38;5;246m# A tibble: 5 × 3\u001b[39m\n",
      "  EDUCATION       DefaultRate Count\n",
      "  \u001b[3m\u001b[38;5;246m<fct>\u001b[39m\u001b[23m                 \u001b[3m\u001b[38;5;246m<dbl>\u001b[39m\u001b[23m \u001b[3m\u001b[38;5;246m<int>\u001b[39m\u001b[23m\n",
      "\u001b[38;5;250m1\u001b[39m High School          0.252   \u001b[4m4\u001b[24m917\n",
      "\u001b[38;5;250m2\u001b[39m University           0.237  \u001b[4m1\u001b[24m\u001b[4m4\u001b[24m030\n",
      "\u001b[38;5;250m3\u001b[39m Graduate School      0.192  \u001b[4m1\u001b[24m\u001b[4m0\u001b[24m585\n",
      "\u001b[38;5;250m4\u001b[39m Unknown              0.075\u001b[4m4\u001b[24m   345\n",
      "\u001b[38;5;250m5\u001b[39m Others               0.056\u001b[4m9\u001b[24m   123\n"
     ]
    }
   ],
   "source": [
    "# Calcula a taxa de inadimplência e o tamanho da amostra para cada nível de escolaridade\n",
    "education_default_rate <- credit_card_df %>%\n",
    "  group_by(EDUCATION) %>%\n",
    "  summarise(\n",
    "    DefaultRate = mean(DEFAULT == \"Yes\"),\n",
    "    Count = n()\n",
    "  ) %>%\n",
    "  arrange(desc(DefaultRate))\n",
    "\n",
    "print(education_default_rate)"
   ]
  },
  {
   "cell_type": "markdown",
   "id": "34535650",
   "metadata": {},
   "source": [
    "A taxa de inadimplência com base nos níveis de educação nos mostra dados interessantes:\n",
    "\n",
    "Clientes apenas com Ensino Médio (High School) apresentam as maiores taxas (25,2%). Um indicativo de pessoas que tiveram acesso a menos educação e/ou pessoas mais pobres que não tiveram meios para arcar com a fatura do cartão. Em contraste, clientes com Pós-graduação (Graduate School) apresentam as menores taxas (19,2%), mostrando como pessoas com acesso a educação de melhor qualidade são mais responsáveis e (possivelmente) de classes sociais mais abastadas. "
   ]
  },
  {
   "cell_type": "code",
   "execution_count": 9,
   "id": "bd88491f",
   "metadata": {},
   "outputs": [
    {
     "name": "stdout",
     "output_type": "stream",
     "text": [
      "\u001b[38;5;246m# A tibble: 3 × 3\u001b[39m\n",
      "  MARRIAGE DefaultRate Count\n",
      "  \u001b[3m\u001b[38;5;246m<fct>\u001b[39m\u001b[23m          \u001b[3m\u001b[38;5;246m<dbl>\u001b[39m\u001b[23m \u001b[3m\u001b[38;5;246m<int>\u001b[39m\u001b[23m\n",
      "\u001b[38;5;250m1\u001b[39m Other          0.236   377\n",
      "\u001b[38;5;250m2\u001b[39m Married        0.235 \u001b[4m1\u001b[24m\u001b[4m3\u001b[24m659\n",
      "\u001b[38;5;250m3\u001b[39m Single         0.209 \u001b[4m1\u001b[24m\u001b[4m5\u001b[24m964\n"
     ]
    }
   ],
   "source": [
    "# Calcula a taxa de inadimplência e o tamanho da amostra para cada estado civil\n",
    "marriage_default_rate <- credit_card_df %>%\n",
    "  group_by(MARRIAGE) %>%\n",
    "  summarise(\n",
    "    DefaultRate = mean(DEFAULT == \"Yes\"),\n",
    "    Count = n()\n",
    "  ) %>%\n",
    "  arrange(desc(DefaultRate))\n",
    "\n",
    "print(marriage_default_rate)"
   ]
  },
  {
   "cell_type": "markdown",
   "id": "992baeb1",
   "metadata": {},
   "source": [
    "A taxa de inadimplência a partir do tipo de estado civil não retorna informações muito relevantes. Nas três categorias a inadimplência atinge aproximadante 20% dos clientes. Mas curiosamente podemos perceber que a inadimplência em clientes casados é superior aos solteiros, isso pode ser devido ao fato que casais em geral tem gastos mais elevados que pessoas solteiras (casa, filhos, educação dos filhos, etc)."
   ]
  },
  {
   "cell_type": "markdown",
   "id": "80e67cb4",
   "metadata": {},
   "source": [
    "Com estas hipóteses sobre as variáveis categóricas estabelecidas, o próximo passo lógico é investigar as variáveis quantitativas."
   ]
  },
  {
   "cell_type": "code",
   "execution_count": 10,
   "id": "c14563eb",
   "metadata": {},
   "outputs": [
    {
     "data": {
      "text/plain": [
       "      AGE          LIMIT_BAL           PAY_0        \n",
       " Min.   :21.00   Min.   :  10000   Min.   :-2.0000  \n",
       " 1st Qu.:28.00   1st Qu.:  50000   1st Qu.:-1.0000  \n",
       " Median :34.00   Median : 140000   Median : 0.0000  \n",
       " Mean   :35.49   Mean   : 167484   Mean   :-0.0167  \n",
       " 3rd Qu.:41.00   3rd Qu.: 240000   3rd Qu.: 0.0000  \n",
       " Max.   :79.00   Max.   :1000000   Max.   : 8.0000  "
      ]
     },
     "execution_count": null,
     "metadata": {},
     "output_type": "execute_result"
    }
   ],
   "source": [
    "# Seleciona as colunas quantitativas de interesse e exibe o resumo estatístico\n",
    "summary(credit_card_df[c(\"AGE\", \"LIMIT_BAL\", \"PAY_0\")])"
   ]
  },
  {
   "cell_type": "markdown",
   "id": "6f70b447",
   "metadata": {},
   "source": [
    "Na variável **AGE** não há nenhum ponto relevante a se analisar, apenas oservar que, aparecetemente, a ideade mínima dos clientes aceita pelo banco é de 21 anos.\n",
    "\n",
    "Em **LIMIT_BAL**, assim como em **AGE**, não há muito o que se analisar, dado que não existe uma discrepância muito grante entre `median` e `mean`. Os dados parecem estar distribuidos de forma quase homogênea em relação à mediana, mesmo a média sendo um pouco superior dado que existem limites de crédito muito altos (1.000.000). Em outras palavras, a distribuição do limite de crédito possui uma **assimetria à direita.**\n",
    "\n",
    "O ponto mais improtante aqui é observar a variável **PAY_0** que representa o status de pagamento para o mês de Setembro de 2005. De acordo com a descrição do dataset, seus valores devem variar de (-1) a (9), mas existe um valor mínimo (-2) que não consta nesse intervalo, então é necessário decidir como tratar ele. Mas antes, decidi fazer a mesma verificação para o status de pagamentos dos outros meses."
   ]
  },
  {
   "cell_type": "code",
   "execution_count": 11,
   "id": "56e93e73",
   "metadata": {},
   "outputs": [
    {
     "data": {
      "text/plain": [
       "     PAY_0             PAY_2             PAY_3             PAY_4        \n",
       " Min.   :-2.0000   Min.   :-2.0000   Min.   :-2.0000   Min.   :-2.0000  \n",
       " 1st Qu.:-1.0000   1st Qu.:-1.0000   1st Qu.:-1.0000   1st Qu.:-1.0000  \n",
       " Median : 0.0000   Median : 0.0000   Median : 0.0000   Median : 0.0000  \n",
       " Mean   :-0.0167   Mean   :-0.1338   Mean   :-0.1662   Mean   :-0.2207  \n",
       " 3rd Qu.: 0.0000   3rd Qu.: 0.0000   3rd Qu.: 0.0000   3rd Qu.: 0.0000  \n",
       " Max.   : 8.0000   Max.   : 8.0000   Max.   : 8.0000   Max.   : 8.0000  \n",
       "     PAY_5             PAY_6        \n",
       " Min.   :-2.0000   Min.   :-2.0000  \n",
       " 1st Qu.:-1.0000   1st Qu.:-1.0000  \n",
       " Median : 0.0000   Median : 0.0000  \n",
       " Mean   :-0.2662   Mean   :-0.2911  \n",
       " 3rd Qu.: 0.0000   3rd Qu.: 0.0000  \n",
       " Max.   : 8.0000   Max.   : 8.0000  "
      ]
     },
     "execution_count": null,
     "metadata": {},
     "output_type": "execute_result"
    }
   ],
   "source": [
    "summary(credit_card_df[c(\"PAY_0\", \"PAY_2\", \"PAY_3\", \"PAY_4\", \"PAY_5\", \"PAY_6\")])"
   ]
  },
  {
   "cell_type": "markdown",
   "id": "510a2e30",
   "metadata": {},
   "source": [
    "Considerando o valor `0` como **uso de crédito rotativo** ou seja, de não inandimplência, podemos juntar esses valores com o valor `1` representanto todos os clientes não-inadimplentes."
   ]
  },
  {
   "cell_type": "code",
   "execution_count": 12,
   "id": "7250b19e",
   "metadata": {},
   "outputs": [
    {
     "name": "stdout",
     "output_type": "stream",
     "text": [
      "\n",
      "  Adimplente Inadimplente \n",
      "       23182         6818 \n"
     ]
    }
   ],
   "source": [
    "# Seleciona as colunas de histórico de pagamento\n",
    "pay_cols <- c(\"PAY_0\", \"PAY_2\", \"PAY_3\", \"PAY_4\", \"PAY_5\", \"PAY_6\")\n",
    "\n",
    "# Recodifica as colunas: valores <= 0 são \"Adimplente\", > 0 são \"Delinquent\"\n",
    "credit_card_df_cleaned <- credit_card_df %>%\n",
    "  mutate(across(all_of(pay_cols), \n",
    "                ~factor(if_else(.x <= 0, \"Adimplente\", \"Inadimplente\"))))\n",
    "\n",
    "# Exibe a contagem das novas categorias para PAY_0 para verificar a transformação\n",
    "print(table(credit_card_df_cleaned$PAY_0))"
   ]
  },
  {
   "cell_type": "markdown",
   "id": "ec425f2d",
   "metadata": {},
   "source": [
    " Esta técnica de agrupar múltiplos valores em categorias menores é uma forma de discretização. Ela pode simplificar o modelo, reduzir o ruído e capturar relações não-lineares de forma mais eficaz, especialmente quando há um limiar claro entre comportamentos, como inadimplente vs. não-inadimplente (Hastie et al., 2009)."
   ]
  },
  {
   "cell_type": "code",
   "execution_count": 13,
   "id": "1c5f9d42",
   "metadata": {},
   "outputs": [
    {
     "data": {
      "image/png": "[encoded data removed]"
     },
     "metadata": {},
     "output_type": "display_data"
    }
   ],
   "source": [
    "# Instale e carregue o pacote, se necessário\n",
    "if (!require(\"ggplot2\")) install.packages(\"ggplot2\")\n",
    "library(ggplot2)\n",
    "\n",
    "# Cria um histograma para visualizar a distribuição de LIMIT_BAL\n",
    "ggplot(credit_card_df, aes(x = LIMIT_BAL)) +\n",
    "  geom_histogram(bins = 50, fill = \"steelblue\", color = \"white\") +\n",
    "  labs(title = \"Distribuição dos Limites de Crédito\",\n",
    "       x = \"Limite de Crédito (NT$)\",\n",
    "       y = \"Frequência\") +\n",
    "  theme_minimal()"
   ]
  },
  {
   "cell_type": "markdown",
   "id": "26ec3e21",
   "metadata": {},
   "source": [
    "Analisando o gráfico de distribuição de **LIMIT_BAL** podemos observar que a maioria dos clientes possuem limites baixos, destacando as barras maiores no início do eixo x, que se estende até o valor limite de 1.000.000, ode não é possível visualizar barras verticais, mas provando a existência de clientes (poucos) com limites de crédito muito altos."
   ]
  },
  {
   "cell_type": "code",
   "execution_count": 14,
   "id": "79b3e5fd",
   "metadata": {},
   "outputs": [
    {
     "data": {
      "image/png": "[encoded data removed]"
     },
     "metadata": {},
     "output_type": "display_data"
    }
   ],
   "source": [
    "# Cria um gráfico de barras empilhadas por proporção\n",
    "ggplot(credit_card_df_cleaned, aes(x = PAY_0, fill = DEFAULT)) +\n",
    "  geom_bar(position = \"fill\") +\n",
    "  labs(title = \"Relação entre Status de Pagamento (PAY_0) e Inadimplência\",\n",
    "       x = \"Status de Pagamento em Setembro\",\n",
    "       y = \"Proporção de Clientes\",\n",
    "       fill = \"Inadimplente\") +\n",
    "  theme_minimal()\n"
   ]
  },
  {
   "cell_type": "markdown",
   "id": "3667d68b",
   "metadata": {},
   "source": [
    "No eixo x é possível perceber que na barra **Inadimplente** que cerca de metade dos clientes que estavam com a fatura atrasada no mês de Setembro conitnuou sem pagar a fatura no mês seguinte, msotrando a tendência de clientes inadimplentes em continuarem sem pagar suas faturas nos meses posteriores. Já na barra **Adimplente** podemos ver que uma pequena parcela dos clientes que estavam em dia, no mês seguinte se tornaram inadimplentes.\n",
    "\n",
    "Em outras palavras, a inadimplência passada tem um altíssimo poder predititivo sob a inadimplência futura.\n",
    "\n"
   ]
  },
  {
   "cell_type": "code",
   "execution_count": 15,
   "id": "1fe1767d",
   "metadata": {},
   "outputs": [
    {
     "name": "stdout",
     "output_type": "stream",
     "text": [
      "\u001b[1mRows: \u001b[22m\u001b[34m30000\u001b[39m \u001b[1mColumns: \u001b[22m\u001b[34m25\u001b[39m\n",
      "\u001b[36m──\u001b[39m \u001b[1mColumn specification\u001b[22m \u001b[36m──────────────────────────────────────────────────\u001b[39m\n",
      "\u001b[1mDelimiter:\u001b[22m \",\"\n",
      "\u001b[32mdbl\u001b[39m (25): ID, LIMIT_BAL, SEX, EDUCATION, MARRIAGE, AGE, PAY_0, PAY_2, ...\n",
      "\n",
      "\u001b[36mℹ\u001b[39m Use `spec()` to retrieve the full column specification for this data.\n",
      "\u001b[36mℹ\u001b[39m Specify the column types or set `show_col_types = FALSE` to quiet this message.\n"
     ]
    },
    {
     "data": {
      "image/png": "[encoded data removed]"
     },
     "metadata": {},
     "output_type": "display_data"
    }
   ],
   "source": [
    "# Carregar o conjunto de dados original\n",
    "credit_card_df <- read_csv(\"UCI_Credit_Card.csv\")\n",
    "\n",
    "# Definir explicitamente as colunas de status de pagamento\n",
    "pay_cols <- c(\"PAY_0\", \"PAY_2\", \"PAY_3\", \"PAY_4\", \"PAY_5\", \"PAY_6\")\n",
    "\n",
    "# Recodificar as colunas PAY_ para criar o dataframe 'cleaned'\n",
    "credit_card_cleaned <- credit_card_df %>%\n",
    "  mutate(across(all_of(pay_cols), \n",
    "                ~factor(if_else(.x <= 0, \"Not Delinquent\", \"Delinquent\"))))\n",
    "\n",
    "# CORREÇÃO: Usar all_of(pay_cols) para selecionar apenas as colunas de status\n",
    "credit_card_engineered <- credit_card_cleaned %>%\n",
    "  rowwise() %>%\n",
    "  mutate(DELINQUENCY_COUNT = sum(c_across(all_of(pay_cols)) == \"Delinquent\")) %>%\n",
    "  ungroup()\n",
    "\n",
    "# Criar o boxplot para visualizar a relação\n",
    "ggplot(credit_card_engineered, aes(x = factor(DELINQUENCY_COUNT), y = LIMIT_BAL)) +\n",
    "  geom_boxplot(fill = \"lightblue\") +\n",
    "  scale_y_continuous(labels = scales::comma) +\n",
    "  labs(title = \"Limite de Crédito vs. Frequência de Atrasos\",\n",
    "       x = \"Número de Meses em Atraso (nos últimos 6 meses)\",\n",
    "       y = \"Limite de Crédito (NT$)\") +\n",
    "  theme_minimal()"
   ]
  },
  {
   "cell_type": "markdown",
   "id": "78fd29ca",
   "metadata": {},
   "source": [
    "Existe uma clara relação inversa: à medida que a frequência de atrasos (`DELINQUENCY_COUNT`) aumenta, a mediana e a dispersão geral do limite de crédito (`LIMIT_BAL`) diminuem. O grupo com 0 atrasos tem a maior mediana e a maior variabilidade de limites, enquanto os grupos com mais atrasos estão concentrados em limites de crédito mais baixos."
   ]
  }
 ],
 "metadata": {
  "language_info": {
   "name": "r"
  }
 },
 "nbformat": 4,
 "nbformat_minor": 5
}
